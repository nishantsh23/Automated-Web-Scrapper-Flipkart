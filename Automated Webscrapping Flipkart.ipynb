{
 "cells": [
  {
   "cell_type": "code",
   "execution_count": 1,
   "id": "0b39a57a",
   "metadata": {},
   "outputs": [
    {
     "name": "stdout",
     "output_type": "stream",
     "text": [
      "Collecting autoscraper\n",
      "  Downloading autoscraper-1.1.12-py3-none-any.whl (10 kB)\n",
      "Collecting bs4\n",
      "  Downloading bs4-0.0.1.tar.gz (1.1 kB)\n",
      "Requirement already satisfied: requests in c:\\users\\acer\\anaconda3\\lib\\site-packages (from autoscraper) (2.26.0)\n",
      "Requirement already satisfied: lxml in c:\\users\\acer\\anaconda3\\lib\\site-packages (from autoscraper) (4.6.3)\n",
      "Requirement already satisfied: beautifulsoup4 in c:\\users\\acer\\anaconda3\\lib\\site-packages (from bs4->autoscraper) (4.10.0)\n",
      "Requirement already satisfied: soupsieve>1.2 in c:\\users\\acer\\anaconda3\\lib\\site-packages (from beautifulsoup4->bs4->autoscraper) (2.2.1)\n",
      "Requirement already satisfied: charset-normalizer~=2.0.0 in c:\\users\\acer\\anaconda3\\lib\\site-packages (from requests->autoscraper) (2.0.4)\n",
      "Requirement already satisfied: urllib3<1.27,>=1.21.1 in c:\\users\\acer\\anaconda3\\lib\\site-packages (from requests->autoscraper) (1.26.7)\n",
      "Requirement already satisfied: idna<4,>=2.5 in c:\\users\\acer\\anaconda3\\lib\\site-packages (from requests->autoscraper) (3.2)\n",
      "Requirement already satisfied: certifi>=2017.4.17 in c:\\users\\acer\\anaconda3\\lib\\site-packages (from requests->autoscraper) (2021.10.8)\n",
      "Building wheels for collected packages: bs4\n",
      "  Building wheel for bs4 (setup.py): started\n",
      "  Building wheel for bs4 (setup.py): finished with status 'done'\n",
      "  Created wheel for bs4: filename=bs4-0.0.1-py3-none-any.whl size=1271 sha256=93be87542d2903ca1227b616412da2e15edb98ae3ccdb666835faa511ac26136\n",
      "  Stored in directory: c:\\users\\acer\\appdata\\local\\pip\\cache\\wheels\\73\\2b\\cb\\099980278a0c9a3e57ff1a89875ec07bfa0b6fcbebb9a8cad3\n",
      "Successfully built bs4\n",
      "Installing collected packages: bs4, autoscraper\n",
      "Successfully installed autoscraper-1.1.12 bs4-0.0.1\n"
     ]
    }
   ],
   "source": [
    "!pip install autoscraper"
   ]
  },
  {
   "cell_type": "code",
   "execution_count": 2,
   "id": "db632be0",
   "metadata": {},
   "outputs": [],
   "source": [
    "from autoscraper import AutoScraper"
   ]
  },
  {
   "cell_type": "code",
   "execution_count": 7,
   "id": "946a3c2b",
   "metadata": {},
   "outputs": [],
   "source": [
    "url = \"https://www.flipkart.com/search?q=iphones\"\n",
    "\n",
    "wanted_list = [\"₹46,999\",\"APPLE iPhone 11 (White, 64 GB)\"]"
   ]
  },
  {
   "cell_type": "code",
   "execution_count": 8,
   "id": "dae62b2c",
   "metadata": {},
   "outputs": [
    {
     "name": "stdout",
     "output_type": "stream",
     "text": [
      "['₹64,999', '₹45,099', '₹73,999', '₹46,999', '₹51,999', '₹35,499', '₹30,499', 'APPLE iPhone 11 (White, 64 GB)', 'APPLE iPhone 13 (Midnight, 128 GB)', 'APPLE iPhone 13 (Pink, 128 GB)', 'APPLE iPhone 11 (Black, 64 GB)', 'APPLE iPhone 13 (Starlight, 128 GB)', 'APPLE iPhone 11 (Purple, 64 GB)', 'APPLE iPhone 11 (White, 128 GB)', 'APPLE iPhone SE (Red, 128 GB)', 'APPLE iPhone 13 (Blue, 128 GB)', 'APPLE iPhone 13 ((PRODUCT)RED, 128 GB)', 'APPLE iPhone 11 (Black, 128 GB)', 'APPLE iPhone 11 (Purple, 128 GB)', 'APPLE iPhone SE (Red, 64 GB)', 'APPLE iPhone 11 (Red, 64 GB)', 'APPLE iPhone 11 (Red, 128 GB)', 'APPLE iPhone 12 (Green, 128 GB)', 'APPLE iPhone 12 (Black, 128 GB)', 'APPLE iPhone SE (Black, 128 GB)', 'APPLE iPhone 13 Mini (Pink, 128 GB)', 'APPLE iPhone 11 (Yellow, 64 GB)', 'APPLE iPhone SE (Black, 256 GB)', 'APPLE iPhone 12 (Purple, 128 GB)', 'APPLE iPhone 12 (White, 128 GB)', 'APPLE iPhone 13 Mini (Starlight, 256 GB)']\n"
     ]
    }
   ],
   "source": [
    "scraper= AutoScraper()\n",
    "result=scraper.build(url,wanted_list)\n",
    "print(result)"
   ]
  },
  {
   "cell_type": "code",
   "execution_count": 9,
   "id": "e35960fa",
   "metadata": {},
   "outputs": [
    {
     "data": {
      "text/plain": [
       "{'rule_8awn': ['₹35,499', '₹49,999', '₹64,999', '₹73,999', '₹64,999'],\n",
       " 'rule_e7wy': ['₹46,999',\n",
       "  '₹73,999',\n",
       "  '₹73,999',\n",
       "  '₹35,499',\n",
       "  '₹46,999',\n",
       "  '₹46,999',\n",
       "  '₹73,999',\n",
       "  '₹73,999',\n",
       "  '₹73,999',\n",
       "  '₹49,999',\n",
       "  '₹51,999',\n",
       "  '₹51,999',\n",
       "  '₹51,999',\n",
       "  '₹30,499',\n",
       "  '₹64,999',\n",
       "  '₹46,999',\n",
       "  '₹51,999',\n",
       "  '₹64,999',\n",
       "  '₹64,999',\n",
       "  '₹59,999',\n",
       "  '₹51,999',\n",
       "  '₹35,499',\n",
       "  '₹64,999',\n",
       "  '₹64,999'],\n",
       " 'rule_3gqw': ['₹46,999',\n",
       "  '₹73,999',\n",
       "  '₹73,999',\n",
       "  '₹35,499',\n",
       "  '₹46,999',\n",
       "  '₹46,999',\n",
       "  '₹73,999',\n",
       "  '₹73,999',\n",
       "  '₹73,999',\n",
       "  '₹49,999',\n",
       "  '₹51,999',\n",
       "  '₹51,999',\n",
       "  '₹51,999',\n",
       "  '₹30,499',\n",
       "  '₹64,999',\n",
       "  '₹46,999',\n",
       "  '₹51,999',\n",
       "  '₹64,999',\n",
       "  '₹64,999',\n",
       "  '₹59,999',\n",
       "  '₹51,999',\n",
       "  '₹35,499',\n",
       "  '₹64,999',\n",
       "  '₹64,999'],\n",
       " 'rule_ce7i': ['₹46,999',\n",
       "  '₹73,999',\n",
       "  '₹73,999',\n",
       "  '₹35,499',\n",
       "  '₹46,999',\n",
       "  '₹46,999',\n",
       "  '₹73,999',\n",
       "  '₹73,999',\n",
       "  '₹73,999',\n",
       "  '₹49,999',\n",
       "  '₹51,999',\n",
       "  '₹51,999',\n",
       "  '₹51,999',\n",
       "  '₹30,499',\n",
       "  '₹64,999',\n",
       "  '₹46,999',\n",
       "  '₹51,999',\n",
       "  '₹64,999',\n",
       "  '₹64,999',\n",
       "  '₹59,999',\n",
       "  '₹51,999',\n",
       "  '₹35,499',\n",
       "  '₹64,999',\n",
       "  '₹64,999'],\n",
       " 'rule_2yzf': ['₹46,999',\n",
       "  '₹73,999',\n",
       "  '₹73,999',\n",
       "  '₹35,499',\n",
       "  '₹46,999',\n",
       "  '₹46,999',\n",
       "  '₹73,999',\n",
       "  '₹73,999',\n",
       "  '₹73,999',\n",
       "  '₹49,999',\n",
       "  '₹51,999',\n",
       "  '₹51,999',\n",
       "  '₹51,999',\n",
       "  '₹30,499',\n",
       "  '₹64,999',\n",
       "  '₹46,999',\n",
       "  '₹51,999',\n",
       "  '₹64,999',\n",
       "  '₹64,999',\n",
       "  '₹59,999',\n",
       "  '₹51,999',\n",
       "  '₹35,499',\n",
       "  '₹64,999',\n",
       "  '₹64,999'],\n",
       " 'rule_2v40': ['₹46,999',\n",
       "  '₹73,999',\n",
       "  '₹73,999',\n",
       "  '₹35,499',\n",
       "  '₹46,999',\n",
       "  '₹46,999',\n",
       "  '₹73,999',\n",
       "  '₹73,999',\n",
       "  '₹73,999',\n",
       "  '₹49,999',\n",
       "  '₹51,999',\n",
       "  '₹51,999',\n",
       "  '₹51,999',\n",
       "  '₹30,499',\n",
       "  '₹64,999',\n",
       "  '₹46,999',\n",
       "  '₹51,999',\n",
       "  '₹64,999',\n",
       "  '₹64,999',\n",
       "  '₹59,999',\n",
       "  '₹51,999',\n",
       "  '₹35,499',\n",
       "  '₹64,999',\n",
       "  '₹64,999'],\n",
       " 'rule_9ntk': ['APPLE iPhone 11 (White, 64 GB)',\n",
       "  'APPLE iPhone 13 (Midnight, 128 GB)',\n",
       "  'APPLE iPhone 13 (Pink, 128 GB)',\n",
       "  'APPLE iPhone SE (Red, 128 GB)',\n",
       "  'APPLE iPhone 11 (Black, 64 GB)',\n",
       "  'APPLE iPhone 11 (Purple, 64 GB)',\n",
       "  'APPLE iPhone 13 (Starlight, 128 GB)',\n",
       "  'APPLE iPhone 13 (Blue, 128 GB)',\n",
       "  'APPLE iPhone 13 ((PRODUCT)RED, 128 GB)',\n",
       "  'APPLE iPhone 12 Mini (Red, 64 GB)',\n",
       "  'APPLE iPhone 11 (Black, 128 GB)',\n",
       "  'APPLE iPhone 11 (White, 128 GB)',\n",
       "  'APPLE iPhone 11 (Purple, 128 GB)',\n",
       "  'APPLE iPhone SE (Red, 64 GB)',\n",
       "  'APPLE iPhone 12 (Black, 128 GB)',\n",
       "  'APPLE iPhone 11 (Red, 64 GB)',\n",
       "  'APPLE iPhone 11 (Red, 128 GB)',\n",
       "  'APPLE iPhone 12 (Green, 128 GB)',\n",
       "  'APPLE iPhone 13 Mini (Blue, 128 GB)',\n",
       "  'APPLE iPhone 12 (Red, 64 GB)',\n",
       "  'APPLE iPhone 11 (Green, 128 GB)',\n",
       "  'APPLE iPhone SE (Black, 128 GB)',\n",
       "  'APPLE iPhone 13 Mini (Pink, 128 GB)',\n",
       "  'APPLE iPhone 12 (Red, 128 GB)'],\n",
       " 'rule_fx3w': ['APPLE iPhone 11 (White, 64 GB)',\n",
       "  'APPLE iPhone 13 (Midnight, 128 GB)',\n",
       "  'APPLE iPhone 13 (Pink, 128 GB)',\n",
       "  'APPLE iPhone SE (Red, 128 GB)',\n",
       "  'APPLE iPhone 11 (Black, 64 GB)',\n",
       "  'APPLE iPhone 11 (Purple, 64 GB)',\n",
       "  'APPLE iPhone 13 (Starlight, 128 GB)',\n",
       "  'APPLE iPhone 13 (Blue, 128 GB)',\n",
       "  'APPLE iPhone 13 ((PRODUCT)RED, 128 GB)',\n",
       "  'APPLE iPhone 12 Mini (Red, 64 GB)',\n",
       "  'APPLE iPhone 11 (Black, 128 GB)',\n",
       "  'APPLE iPhone 11 (White, 128 GB)',\n",
       "  'APPLE iPhone 11 (Purple, 128 GB)',\n",
       "  'APPLE iPhone SE (Red, 64 GB)',\n",
       "  'APPLE iPhone 12 (Black, 128 GB)',\n",
       "  'APPLE iPhone 11 (Red, 64 GB)',\n",
       "  'APPLE iPhone 11 (Red, 128 GB)',\n",
       "  'APPLE iPhone 12 (Green, 128 GB)',\n",
       "  'APPLE iPhone 13 Mini (Blue, 128 GB)',\n",
       "  'APPLE iPhone 12 (Red, 64 GB)',\n",
       "  'APPLE iPhone 11 (Green, 128 GB)',\n",
       "  'APPLE iPhone SE (Black, 128 GB)',\n",
       "  'APPLE iPhone 13 Mini (Pink, 128 GB)',\n",
       "  'APPLE iPhone 12 (Red, 128 GB)']}"
      ]
     },
     "execution_count": 9,
     "metadata": {},
     "output_type": "execute_result"
    }
   ],
   "source": [
    "scraper.get_result_similar(url,grouped=True)"
   ]
  },
  {
   "cell_type": "code",
   "execution_count": 10,
   "id": "92942998",
   "metadata": {},
   "outputs": [],
   "source": [
    "scraper.set_rule_aliases({'rule_9ntk':'Title','rule_e7wy':'Price'})\n",
    "scraper.keep_rules(['rule_9ntk','rule_e7wy'])\n",
    "scraper.save('flipkart-search')"
   ]
  },
  {
   "cell_type": "code",
   "execution_count": 11,
   "id": "28b3b297",
   "metadata": {},
   "outputs": [],
   "source": [
    "results=scraper.get_result_similar('https://www.flipkart.com/search?q=realme%20phones',group_by_alias=True)"
   ]
  },
  {
   "cell_type": "code",
   "execution_count": 12,
   "id": "adaf77ea",
   "metadata": {},
   "outputs": [
    {
     "data": {
      "text/plain": [
       "['₹9,299',\n",
       " '₹9,299',\n",
       " '₹9,999',\n",
       " '₹7,499',\n",
       " '₹7,499',\n",
       " '₹12,999',\n",
       " '₹8,999',\n",
       " '₹8,999',\n",
       " '₹7,499',\n",
       " '₹7,499',\n",
       " '₹7,499',\n",
       " '₹7,499',\n",
       " '₹11,999',\n",
       " '₹11,999',\n",
       " '₹9,999',\n",
       " '₹12,999',\n",
       " '₹12,499',\n",
       " '₹11,499',\n",
       " '₹13,499',\n",
       " '₹13,499',\n",
       " '₹11,499',\n",
       " '₹16,999',\n",
       " '₹16,999',\n",
       " '₹17,999']"
      ]
     },
     "execution_count": 12,
     "metadata": {},
     "output_type": "execute_result"
    }
   ],
   "source": [
    "results['Price']"
   ]
  },
  {
   "cell_type": "code",
   "execution_count": null,
   "id": "b8eced41",
   "metadata": {},
   "outputs": [],
   "source": []
  }
 ],
 "metadata": {
  "kernelspec": {
   "display_name": "Python 3 (ipykernel)",
   "language": "python",
   "name": "python3"
  },
  "language_info": {
   "codemirror_mode": {
    "name": "ipython",
    "version": 3
   },
   "file_extension": ".py",
   "mimetype": "text/x-python",
   "name": "python",
   "nbconvert_exporter": "python",
   "pygments_lexer": "ipython3",
   "version": "3.9.7"
  }
 },
 "nbformat": 4,
 "nbformat_minor": 5
}
